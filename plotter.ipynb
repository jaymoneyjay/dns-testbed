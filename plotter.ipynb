{
 "cells": [
  {
   "cell_type": "code",
   "execution_count": 15,
   "id": "62cc3a48",
   "metadata": {},
   "outputs": [],
   "source": [
    "import matplotlib.pyplot as plt\n",
    "import pandas as pd\n",
    "import seaborn as sns"
   ]
  },
  {
   "cell_type": "code",
   "execution_count": 16,
   "id": "c0987af3",
   "metadata": {},
   "outputs": [],
   "source": [
    "def max_point_annot(x, y, name, frac, ax=None):\n",
    "        xmax = x[np.argmax(y)]\n",
    "        ymax = max(y)\n",
    "        text= \"{}\\nMax at {:.2f}\".format(name, ymax)\n",
    "        if not ax:\n",
    "            ax=plt.gca()\n",
    "        bbox_props = dict(boxstyle=\"square,pad=0.3\", fc=\"w\", ec=\"k\", lw=0.72)\n",
    "        arrowprops=dict(arrowstyle=\"->\")\n",
    "        kw = dict(xycoords='data',textcoords=\"axes fraction\",\n",
    "                  arrowprops=arrowprops, bbox=bbox_props, ha=\"right\", va=\"top\")\n",
    "        ax.annotate(text, xy=(xmax, ymax), xytext=(0.30,max(0.96 - frac, 0.3)), **kw)"
   ]
  },
  {
   "cell_type": "code",
   "execution_count": 24,
   "id": "a191158c",
   "metadata": {},
   "outputs": [
    {
     "data": {
      "text/html": [
       "<div>\n",
       "<style scoped>\n",
       "    .dataframe tbody tr th:only-of-type {\n",
       "        vertical-align: middle;\n",
       "    }\n",
       "\n",
       "    .dataframe tbody tr th {\n",
       "        vertical-align: top;\n",
       "    }\n",
       "\n",
       "    .dataframe thead th {\n",
       "        text-align: right;\n",
       "    }\n",
       "</style>\n",
       "<table border=\"1\" class=\"dataframe\">\n",
       "  <thead>\n",
       "    <tr style=\"text-align: right;\">\n",
       "      <th></th>\n",
       "      <th>Implementation</th>\n",
       "      <th>Amplification</th>\n",
       "      <th>NS Delegations</th>\n",
       "    </tr>\n",
       "  </thead>\n",
       "  <tbody>\n",
       "    <tr>\n",
       "      <th>0</th>\n",
       "      <td>bind9</td>\n",
       "      <td>1</td>\n",
       "      <td>1</td>\n",
       "    </tr>\n",
       "    <tr>\n",
       "      <th>1</th>\n",
       "      <td>bind9</td>\n",
       "      <td>1</td>\n",
       "      <td>2</td>\n",
       "    </tr>\n",
       "    <tr>\n",
       "      <th>2</th>\n",
       "      <td>bind9</td>\n",
       "      <td>2</td>\n",
       "      <td>3</td>\n",
       "    </tr>\n",
       "    <tr>\n",
       "      <th>3</th>\n",
       "      <td>bind9</td>\n",
       "      <td>2</td>\n",
       "      <td>4</td>\n",
       "    </tr>\n",
       "    <tr>\n",
       "      <th>4</th>\n",
       "      <td>bind9</td>\n",
       "      <td>3</td>\n",
       "      <td>5</td>\n",
       "    </tr>\n",
       "  </tbody>\n",
       "</table>\n",
       "</div>"
      ],
      "text/plain": [
       "  Implementation  Amplification  NS Delegations\n",
       "0          bind9              1               1\n",
       "1          bind9              1               2\n",
       "2          bind9              2               3\n",
       "3          bind9              2               4\n",
       "4          bind9              3               5"
      ]
     },
     "execution_count": 24,
     "metadata": {},
     "output_type": "execute_result"
    }
   ],
   "source": [
    "df_results = pd.read_csv(\"results.csv\")\n",
    "df_results.head()"
   ]
  },
  {
   "cell_type": "code",
   "execution_count": 25,
   "id": "76d7c027",
   "metadata": {},
   "outputs": [
    {
     "data": {
      "text/plain": [
       "<AxesSubplot:title={'center':'Subqueries unchained'}, xlabel='NS Delegations', ylabel='Amplification factor'>"
      ]
     },
     "execution_count": 25,
     "metadata": {},
     "output_type": "execute_result"
    },
    {
     "data": {
      "image/png": "[encoded data removed]",
      "text/plain": [
       "<Figure size 432x288 with 1 Axes>"
      ]
     },
     "metadata": {
      "needs_background": "light"
     },
     "output_type": "display_data"
    }
   ],
   "source": [
    "fig = plt.figure()\n",
    "ax = fig.add_subplot()\n",
    "ax.set_title(\"Subqueries unchained\", fontsize = 20)\n",
    "ax.set_xlabel(\"NS Delegations\", fontsize = 12)\n",
    "ax.set_ylabel(\"Amplification factor\", fontsize = 12)\n",
    "sns.lineplot(x=\"NS Delegations\", y=\"Amplification\", hue=\"Implementation\", data=df_results, marker=\"o\", ax=ax)"
   ]
  },
  {
   "cell_type": "code",
   "execution_count": null,
   "id": "abb50d36",
   "metadata": {},
   "outputs": [],
   "source": [
    "def create_combined_plots_simple(list_list_values, filename, implementation_names, folder_path):\n",
    "\n",
    "    x = range(1, len(list_list_values[0])+1)\n",
    "    fig = plt.figure()\n",
    "    ax = fig.add_subplot()\n",
    "\n",
    "    missing_attributes = []\n",
    "    ns_del = 0\n",
    "    cname_chain_length= 0\n",
    "    nb_labels = 0\n",
    "\n",
    "    x_labels = \"TOBEDEFINED\"\n",
    "\n",
    "    ax.set_xlabel(x_labels, fontsize = 12)\n",
    "    ax.set_ylabel('Amplification factor', fontsize = 12)\n",
    "\n",
    "    ax.set_xlim(0,10+1)\n",
    "    ax.set_ylim(0, 1700)\n",
    "\n",
    "    fixed_vars = {\"ns_del\" : \"#Del={}\".format(str(ns_del)), \"cname_chain_length\" : \"CNAME_length={}\".format(str(cname_chain_length)), \"nb_labels\" : \"#Labels={}\".format(str(nb_labels))}\n",
    "    fixed = [fixed_vars[i] for i in fixed_vars.keys()]\n",
    "    vars = \", \".join(fixed)\n",
    "    # RElated to the previous : find from the filename what are the fixed attributes\n",
    "    ax.set_title('Amplification factor c/nameserver with Sub+CCV+QMIN \\n Fixed values : {vars}'.format(vars=vars), fontsize = 11)\n",
    "\n",
    "    ax.grid()\n",
    "    for list_values in list_list_values:\n",
    "        ax.plot(x, list_values, marker = 'o')\n",
    "\n",
    "\n",
    "    plot_path = folder_path+\"fig_\"+filename.split(\".\")[0]+\".jpg\"\n",
    "    \n",
    "    # remove the previous path\n",
    "    if os.path.exists(plot_path):\n",
    "        os.remove(plot_path)\n",
    "        #print(\"removed plot\")\n",
    "        \n",
    "    \n",
    "\n",
    "    for i in range(0,len(implementation_names)):\n",
    "        list_values = list_list_values[i]\n",
    "        max_point_annot(x,list_values, implementation_names[i], i/len(list_list_values))\n",
    "\n",
    "    plt.legend(implementation_names)\n",
    "\n",
    "    plt.savefig(plot_path)\n",
    "    plt.close()\n"
   ]
  }
 ],
 "metadata": {
  "kernelspec": {
   "display_name": "Python (spring21JodokVieli)",
   "language": "python",
   "name": "spring21jodokvieli"
  },
  "language_info": {
   "codemirror_mode": {
    "name": "ipython",
    "version": 3
   },
   "file_extension": ".py",
   "mimetype": "text/x-python",
   "name": "python",
   "nbconvert_exporter": "python",
   "pygments_lexer": "ipython3",
   "version": "3.8.0"
  }
 },
 "nbformat": 4,
 "nbformat_minor": 5
}
